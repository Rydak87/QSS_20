{
 "cells": [
  {
   "cell_type": "markdown",
   "metadata": {},
   "source": [
    "# 0. Load imports "
   ]
  },
  {
   "cell_type": "code",
   "execution_count": 5,
   "metadata": {},
   "outputs": [],
   "source": [
    "## imports\n",
    "import pandas as pd\n",
    "import numpy as np\n",
    "import re\n",
    "\n",
    "\n",
    "# ## print multiple things from same cell\n",
    "# from IPython.core.interactiveshell import InteractiveShell\n",
    "# InteractiveShell.ast_node_interactivity = \"all\"\n",
    "\n",
    "\n",
    "## load data on 2020 crimes in DC\n",
    "df = dc_crim_2020 = pd.read_csv(\"https://opendata.arcgis.com/datasets/f516e0dd7b614b088ad781b0c4002331_2.csv\")"
   ]
  },
  {
   "cell_type": "markdown",
   "metadata": {},
   "source": [
    "# 1. Questions: list comprehension\n",
    "\n",
    "- In class example, why did we need the \"courses\" at the beginning of the list iteration\n",
    "- How did the join syntax work in the example where we paste together offenses from same ward"
   ]
  },
  {
   "cell_type": "code",
   "execution_count": 6,
   "metadata": {},
   "outputs": [],
   "source": [
    "## toy example\n",
    "\n",
    "### pool of courses\n",
    "all_courses = [\"QSS20\", \"QSS17\", \"GOV10\", \"GOV4\", \"CSC1\"]\n"
   ]
  },
  {
   "cell_type": "markdown",
   "metadata": {},
   "source": [
    "## 1.1 Application 1: filtering to a smaller list\n",
    "\n",
    "When we might use: have a lot of columns in a dataframe; want to filter to a smaller set using some pattern"
   ]
  },
  {
   "cell_type": "code",
   "execution_count": 7,
   "metadata": {},
   "outputs": [
    {
     "data": {
      "text/plain": [
       "['GOV10', 'GOV4']"
      ]
     },
     "execution_count": 7,
     "metadata": {},
     "output_type": "execute_result"
    }
   ],
   "source": [
    "### pull out ones that contain GOV in the string\n",
    "gov_c = [course for course in all_courses\n",
    "        if \"GOV\" in course]\n",
    "gov_c # result"
   ]
  },
  {
   "cell_type": "code",
   "execution_count": 8,
   "metadata": {},
   "outputs": [
    {
     "data": {
      "text/plain": [
       "True"
      ]
     },
     "execution_count": 8,
     "metadata": {},
     "output_type": "execute_result"
    }
   ],
   "source": [
    "### showing that the \"course\" is just a placeholder/\n",
    "### arbitrary interator\n",
    "gov_c_alt = [x for x in all_courses if \"GOV\" in x]\n",
    "\n",
    "gov_c == gov_c_alt"
   ]
  },
  {
   "cell_type": "code",
   "execution_count": 10,
   "metadata": {},
   "outputs": [],
   "source": [
    "### what happens if we use the same syntax\n",
    "### but don't have course at the beginning?\n",
    "[for course in all_courses if \"GOV\" in course]\n",
    "\n",
    "### gives us error about invalid syntax\n",
    "### reason is we need to tell it what to return"
   ]
  },
  {
   "cell_type": "markdown",
   "metadata": {},
   "source": [
    "## 1.2 Application two: keep all objects in the list but do some transformation"
   ]
  },
  {
   "cell_type": "code",
   "execution_count": 11,
   "metadata": {},
   "outputs": [
    {
     "data": {
      "text/plain": [
       "['QSS', 'QSS', 'GOV', 'GOV', 'CSC']"
      ]
     },
     "execution_count": 11,
     "metadata": {},
     "output_type": "execute_result"
    }
   ],
   "source": [
    "## strip the numbers from the course names\n",
    "courses_prefix = [x[:3] for x in all_courses]\n",
    "courses_prefix # could then find unique elements\n"
   ]
  },
  {
   "cell_type": "code",
   "execution_count": 17,
   "metadata": {},
   "outputs": [
    {
     "data": {
      "text/plain": [
       "'QSS #:)# QSS #:)# GOV #:)# GOV #:)# CSC'"
      ]
     },
     "execution_count": 17,
     "metadata": {},
     "output_type": "execute_result"
    }
   ],
   "source": [
    "# Join all together example\n",
    "\" #:)# \".join(courses_prefix)"
   ]
  },
  {
   "cell_type": "markdown",
   "metadata": {},
   "source": [
    "#### Your turn: Using original list, add \"dartmouth_\" prefix to the course name"
   ]
  },
  {
   "cell_type": "code",
   "execution_count": null,
   "metadata": {},
   "outputs": [],
   "source": []
  },
  {
   "cell_type": "code",
   "execution_count": null,
   "metadata": {},
   "outputs": [],
   "source": []
  },
  {
   "cell_type": "code",
   "execution_count": null,
   "metadata": {},
   "outputs": [],
   "source": []
  },
  {
   "cell_type": "markdown",
   "metadata": {},
   "source": [
    "## 1.3 Using to help with subsetting columns"
   ]
  },
  {
   "cell_type": "code",
   "execution_count": 12,
   "metadata": {},
   "outputs": [
    {
     "data": {
      "text/plain": [
       "Index(['X', 'Y', 'CCN', 'REPORT_DAT', 'SHIFT', 'METHOD', 'OFFENSE', 'BLOCK',\n",
       "       'XBLOCK', 'YBLOCK', 'WARD', 'ANC', 'DISTRICT', 'PSA',\n",
       "       'NEIGHBORHOOD_CLUSTER', 'BLOCK_GROUP', 'CENSUS_TRACT',\n",
       "       'VOTING_PRECINCT', 'LATITUDE', 'LONGITUDE', 'BID', 'START_DATE',\n",
       "       'END_DATE', 'OBJECTID', 'OCTO_RECORD_ID'],\n",
       "      dtype='object')"
      ]
     },
     "execution_count": 12,
     "metadata": {},
     "output_type": "execute_result"
    }
   ],
   "source": [
    "## print all columns in the crime report data\n",
    "df.columns"
   ]
  },
  {
   "cell_type": "markdown",
   "metadata": {},
   "source": [
    "Use list comprehension to filter to columns with id in the string. Then, create a new dataframe called df1 that contains only column heads with \"id\""
   ]
  },
  {
   "cell_type": "code",
   "execution_count": 13,
   "metadata": {},
   "outputs": [
    {
     "data": {
      "text/plain": [
       "['BID', 'OBJECTID', 'OCTO_RECORD_ID']"
      ]
     },
     "execution_count": 13,
     "metadata": {},
     "output_type": "execute_result"
    }
   ],
   "source": [
    "id_cols = [col for col in df.columns if \"ID\" in col]\n",
    "id_cols"
   ]
  },
  {
   "cell_type": "code",
   "execution_count": 14,
   "metadata": {
    "scrolled": true
   },
   "outputs": [
    {
     "data": {
      "text/html": [
       "<div>\n",
       "<style scoped>\n",
       "    .dataframe tbody tr th:only-of-type {\n",
       "        vertical-align: middle;\n",
       "    }\n",
       "\n",
       "    .dataframe tbody tr th {\n",
       "        vertical-align: top;\n",
       "    }\n",
       "\n",
       "    .dataframe thead th {\n",
       "        text-align: right;\n",
       "    }\n",
       "</style>\n",
       "<table border=\"1\" class=\"dataframe\">\n",
       "  <thead>\n",
       "    <tr style=\"text-align: right;\">\n",
       "      <th></th>\n",
       "      <th>BID</th>\n",
       "      <th>OBJECTID</th>\n",
       "      <th>OCTO_RECORD_ID</th>\n",
       "    </tr>\n",
       "  </thead>\n",
       "  <tbody>\n",
       "    <tr>\n",
       "      <th>0</th>\n",
       "      <td>NaN</td>\n",
       "      <td>379434829</td>\n",
       "      <td>NaN</td>\n",
       "    </tr>\n",
       "    <tr>\n",
       "      <th>1</th>\n",
       "      <td>NaN</td>\n",
       "      <td>379438174</td>\n",
       "      <td>NaN</td>\n",
       "    </tr>\n",
       "    <tr>\n",
       "      <th>2</th>\n",
       "      <td>NaN</td>\n",
       "      <td>379438177</td>\n",
       "      <td>NaN</td>\n",
       "    </tr>\n",
       "    <tr>\n",
       "      <th>3</th>\n",
       "      <td>DOWNTOWN</td>\n",
       "      <td>379438181</td>\n",
       "      <td>NaN</td>\n",
       "    </tr>\n",
       "    <tr>\n",
       "      <th>4</th>\n",
       "      <td>GOLDEN TRIANGLE</td>\n",
       "      <td>379438182</td>\n",
       "      <td>NaN</td>\n",
       "    </tr>\n",
       "    <tr>\n",
       "      <th>...</th>\n",
       "      <td>...</td>\n",
       "      <td>...</td>\n",
       "      <td>...</td>\n",
       "    </tr>\n",
       "    <tr>\n",
       "      <th>27928</th>\n",
       "      <td>NaN</td>\n",
       "      <td>379952878</td>\n",
       "      <td>NaN</td>\n",
       "    </tr>\n",
       "    <tr>\n",
       "      <th>27929</th>\n",
       "      <td>NaN</td>\n",
       "      <td>379952879</td>\n",
       "      <td>NaN</td>\n",
       "    </tr>\n",
       "    <tr>\n",
       "      <th>27930</th>\n",
       "      <td>NaN</td>\n",
       "      <td>379952880</td>\n",
       "      <td>NaN</td>\n",
       "    </tr>\n",
       "    <tr>\n",
       "      <th>27931</th>\n",
       "      <td>NaN</td>\n",
       "      <td>379952881</td>\n",
       "      <td>NaN</td>\n",
       "    </tr>\n",
       "    <tr>\n",
       "      <th>27932</th>\n",
       "      <td>NaN</td>\n",
       "      <td>379952882</td>\n",
       "      <td>NaN</td>\n",
       "    </tr>\n",
       "  </tbody>\n",
       "</table>\n",
       "<p>27933 rows × 3 columns</p>\n",
       "</div>"
      ],
      "text/plain": [
       "                   BID   OBJECTID  OCTO_RECORD_ID\n",
       "0                  NaN  379434829             NaN\n",
       "1                  NaN  379438174             NaN\n",
       "2                  NaN  379438177             NaN\n",
       "3             DOWNTOWN  379438181             NaN\n",
       "4      GOLDEN TRIANGLE  379438182             NaN\n",
       "...                ...        ...             ...\n",
       "27928              NaN  379952878             NaN\n",
       "27929              NaN  379952879             NaN\n",
       "27930              NaN  379952880             NaN\n",
       "27931              NaN  379952881             NaN\n",
       "27932              NaN  379952882             NaN\n",
       "\n",
       "[27933 rows x 3 columns]"
      ]
     },
     "execution_count": 14,
     "metadata": {},
     "output_type": "execute_result"
    }
   ],
   "source": [
    "## Then, can filter the data\n",
    "df[id_cols]"
   ]
  },
  {
   "cell_type": "markdown",
   "metadata": {},
   "source": [
    "## 1.4 Saving time and space\n",
    "\n",
    "Here we compare two ways of creating a list of even numbers."
   ]
  },
  {
   "cell_type": "code",
   "execution_count": 19,
   "metadata": {},
   "outputs": [
    {
     "data": {
      "text/plain": [
       "array([   0,    1,    2, ..., 9997, 9998, 9999])"
      ]
     },
     "execution_count": 19,
     "metadata": {},
     "output_type": "execute_result"
    }
   ],
   "source": [
    "num_list = np.arange(10000)\n",
    "num_list"
   ]
  },
  {
   "cell_type": "code",
   "execution_count": 2,
   "metadata": {},
   "outputs": [
    {
     "data": {
      "text/plain": [
       "0"
      ]
     },
     "execution_count": 2,
     "metadata": {},
     "output_type": "execute_result"
    }
   ],
   "source": [
    "10 % 2"
   ]
  },
  {
   "cell_type": "code",
   "execution_count": 32,
   "metadata": {},
   "outputs": [
    {
     "name": "stdout",
     "output_type": "stream",
     "text": [
      "CPU times: user 10.6 ms, sys: 576 µs, total: 11.2 ms\n",
      "Wall time: 11.2 ms\n"
     ]
    }
   ],
   "source": [
    "%%time\n",
    "even_nums = []\n",
    "for i in num_list:\n",
    "    if (i % 2) == 0:\n",
    "        even_nums.append(i)"
   ]
  },
  {
   "cell_type": "code",
   "execution_count": 33,
   "metadata": {},
   "outputs": [
    {
     "name": "stdout",
     "output_type": "stream",
     "text": [
      "CPU times: user 10.5 ms, sys: 3.08 ms, total: 13.6 ms\n",
      "Wall time: 17.2 ms\n"
     ]
    }
   ],
   "source": [
    "%%time\n",
    "even_nums = [i for i in num_list if (i % 2) == 0]"
   ]
  },
  {
   "cell_type": "markdown",
   "metadata": {},
   "source": [
    "#### Your turn: Extract all numbers in num_list that end in 7"
   ]
  },
  {
   "cell_type": "code",
   "execution_count": null,
   "metadata": {},
   "outputs": [],
   "source": []
  },
  {
   "cell_type": "markdown",
   "metadata": {},
   "source": [
    "#### Your turn: Divide each number  in num_list by 2"
   ]
  },
  {
   "cell_type": "code",
   "execution_count": null,
   "metadata": {},
   "outputs": [],
   "source": []
  },
  {
   "cell_type": "markdown",
   "metadata": {},
   "source": [
    "# 2. Questions: lambda functions\n",
    "\n",
    "Two questions:\n",
    "\n",
    "- General syntax (see here for a reference: https://www.w3schools.com/python/python_lambda.asp \n",
    "- How they work in the context of aggregations\n",
    "\n",
    "How is a lambda function different from a \"normal\" user-defined function (that has the syntax def func_name(arg): etc?\n",
    "\n",
    "- Operates similarly to normal user-defined functions in that it can take any # of arguments\n",
    "- Operates differently in that it's an \"anonymous\" function or a function that we don't explicitly name/save in memory"
   ]
  },
  {
   "cell_type": "code",
   "execution_count": 44,
   "metadata": {},
   "outputs": [
    {
     "data": {
      "text/plain": [
       "3"
      ]
     },
     "execution_count": 44,
     "metadata": {},
     "output_type": "execute_result"
    }
   ],
   "source": [
    "def f(x,y):\n",
    "    return x+y\n",
    "f(2,1)"
   ]
  },
  {
   "cell_type": "code",
   "execution_count": null,
   "metadata": {},
   "outputs": [],
   "source": [
    "f = lambda x, y: x+y\n",
    "f(4,3)"
   ]
  },
  {
   "cell_type": "markdown",
   "metadata": {},
   "source": [
    "## 2.1 General syntax for lambda functions"
   ]
  },
  {
   "cell_type": "code",
   "execution_count": 36,
   "metadata": {},
   "outputs": [],
   "source": [
    "### two pools of courses\n",
    "socsci = [\"QSS20\", \"QSS17\", \"GOV10\"]\n",
    "natsci = [\"BIO2\", \"PHYS3\"]\n",
    "\n",
    "\n",
    "## generalize some of the steps\n",
    "## above into a two-arg function\n",
    "## that takes the course prefix\n",
    "## and a list of all courses\n",
    "def filter_courses(prefix,all_courses):\n",
    "    rel_courses = [c for c in all_courses if prefix in c]\n",
    "    return(rel_courses)\n",
    "\n",
    "### a few applications \n",
    "# filter_courses(prefix = \"QSS\", all_courses = socsci)\n",
    "# filter_courses(prefix = \"QSS\", all_courses = natsci)\n",
    "# filter_courses(prefix = \"BIO\", all_courses = natsci)"
   ]
  },
  {
   "cell_type": "code",
   "execution_count": null,
   "metadata": {},
   "outputs": [],
   "source": [
    "## what's the lambda function version of this\n",
    "filter_courses_v2 = lambda prefix, all_courses: [c for c in all_courses if prefix in c]\n",
    "filter_courses_v2(prefix = \"BIO\", all_courses = natsci)\n"
   ]
  },
  {
   "cell_type": "markdown",
   "metadata": {},
   "source": [
    "## 2.2 using alongside agg"
   ]
  },
  {
   "cell_type": "code",
   "execution_count": 50,
   "metadata": {},
   "outputs": [
    {
     "data": {
      "text/plain": [
       "WARD\n",
       "1           3100 - 3299 BLOCK OF 14TH STREET NW\n",
       "2    1300 - 1699 BLOCK OF CONNECTICUT AVENUE NW\n",
       "3      5300 - 5399 BLOCK OF WISCONSIN AVENUE NW\n",
       "4          100 - 199 BLOCK OF CARROLL STREET NW\n",
       "5     900 - 999 BLOCK OF RHODE ISLAND AVENUE NE\n",
       "6                600 - 699 BLOCK OF H STREET NE\n",
       "7         934 - 1099 BLOCK OF EASTERN AVENUE NE\n",
       "8        2300 - 2399 BLOCK OF GOOD HOPE ROAD SE\n",
       "Name: BLOCK, dtype: object"
      ]
     },
     "execution_count": 50,
     "metadata": {},
     "output_type": "execute_result"
    },
    {
     "data": {
      "text/html": [
       "<div>\n",
       "<style scoped>\n",
       "    .dataframe tbody tr th:only-of-type {\n",
       "        vertical-align: middle;\n",
       "    }\n",
       "\n",
       "    .dataframe tbody tr th {\n",
       "        vertical-align: top;\n",
       "    }\n",
       "\n",
       "    .dataframe thead th {\n",
       "        text-align: right;\n",
       "    }\n",
       "</style>\n",
       "<table border=\"1\" class=\"dataframe\">\n",
       "  <thead>\n",
       "    <tr style=\"text-align: right;\">\n",
       "      <th></th>\n",
       "      <th>BLOCK</th>\n",
       "    </tr>\n",
       "    <tr>\n",
       "      <th>WARD</th>\n",
       "      <th></th>\n",
       "    </tr>\n",
       "  </thead>\n",
       "  <tbody>\n",
       "    <tr>\n",
       "      <th>1</th>\n",
       "      <td>3100 - 3299 BLOCK OF 14TH STREET NW</td>\n",
       "    </tr>\n",
       "    <tr>\n",
       "      <th>2</th>\n",
       "      <td>1300 - 1699 BLOCK OF CONNECTICUT AVENUE NW</td>\n",
       "    </tr>\n",
       "    <tr>\n",
       "      <th>3</th>\n",
       "      <td>5300 - 5399 BLOCK OF WISCONSIN AVENUE NW</td>\n",
       "    </tr>\n",
       "    <tr>\n",
       "      <th>4</th>\n",
       "      <td>100 - 199 BLOCK OF CARROLL STREET NW</td>\n",
       "    </tr>\n",
       "    <tr>\n",
       "      <th>5</th>\n",
       "      <td>900 - 999 BLOCK OF RHODE ISLAND AVENUE NE</td>\n",
       "    </tr>\n",
       "    <tr>\n",
       "      <th>6</th>\n",
       "      <td>600 - 699 BLOCK OF H STREET NE</td>\n",
       "    </tr>\n",
       "    <tr>\n",
       "      <th>7</th>\n",
       "      <td>934 - 1099 BLOCK OF EASTERN AVENUE NE</td>\n",
       "    </tr>\n",
       "    <tr>\n",
       "      <th>8</th>\n",
       "      <td>2300 - 2399 BLOCK OF GOOD HOPE ROAD SE</td>\n",
       "    </tr>\n",
       "  </tbody>\n",
       "</table>\n",
       "</div>"
      ],
      "text/plain": [
       "                                           BLOCK\n",
       "WARD                                            \n",
       "1            3100 - 3299 BLOCK OF 14TH STREET NW\n",
       "2     1300 - 1699 BLOCK OF CONNECTICUT AVENUE NW\n",
       "3       5300 - 5399 BLOCK OF WISCONSIN AVENUE NW\n",
       "4           100 - 199 BLOCK OF CARROLL STREET NW\n",
       "5      900 - 999 BLOCK OF RHODE ISLAND AVENUE NE\n",
       "6                 600 - 699 BLOCK OF H STREET NE\n",
       "7          934 - 1099 BLOCK OF EASTERN AVENUE NE\n",
       "8         2300 - 2399 BLOCK OF GOOD HOPE ROAD SE"
      ]
     },
     "execution_count": 50,
     "metadata": {},
     "output_type": "execute_result"
    }
   ],
   "source": [
    "## use lambda to find modal block in a ward- multiple ways\n",
    "\n",
    "### way 1: subsetting agg syntex\n",
    "df.groupby(\"WARD\")[\"BLOCK\"].agg(lambda x: x.mode())\n",
    "\n",
    "### way 2: dictionary agg syntax\n",
    "df.groupby(\"WARD\").agg({\"BLOCK\": lambda x: x.mode()})\n"
   ]
  },
  {
   "cell_type": "markdown",
   "metadata": {},
   "source": [
    "#### Question: How would you validate that the groupby is correct? Hint: How would you check results for Ward 1?"
   ]
  },
  {
   "cell_type": "code",
   "execution_count": null,
   "metadata": {},
   "outputs": [],
   "source": []
  },
  {
   "cell_type": "markdown",
   "metadata": {},
   "source": [
    "#### Your turn: Group by WARD and get the mean and standard deviation (std) of X and Y"
   ]
  },
  {
   "cell_type": "code",
   "execution_count": null,
   "metadata": {},
   "outputs": [],
   "source": []
  },
  {
   "cell_type": "code",
   "execution_count": null,
   "metadata": {},
   "outputs": [],
   "source": []
  },
  {
   "cell_type": "code",
   "execution_count": null,
   "metadata": {},
   "outputs": [],
   "source": []
  },
  {
   "cell_type": "code",
   "execution_count": null,
   "metadata": {},
   "outputs": [],
   "source": []
  }
 ],
 "metadata": {
  "kernelspec": {
   "display_name": "Python 3 (ipykernel)",
   "language": "python",
   "name": "python3"
  },
  "language_info": {
   "codemirror_mode": {
    "name": "ipython",
    "version": 3
   },
   "file_extension": ".py",
   "mimetype": "text/x-python",
   "name": "python",
   "nbconvert_exporter": "python",
   "pygments_lexer": "ipython3",
   "version": "3.10.4"
  }
 },
 "nbformat": 4,
 "nbformat_minor": 4
}
